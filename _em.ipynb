{
  "metadata": {
    "kernelspec": {
      "name": "python",
      "display_name": "Python (Pyodide)",
      "language": "python"
    },
    "language_info": {
      "codemirror_mode": {
        "name": "python",
        "version": 3
      },
      "file_extension": ".py",
      "mimetype": "text/x-python",
      "name": "python",
      "nbconvert_exporter": "python",
      "pygments_lexer": "ipython3",
      "version": "3.8"
    }
  },
  "nbformat_minor": 5,
  "nbformat": 4,
  "cells": [
    {
      "id": "5c1e07d0-f050-4fae-95d7-9f5c414e17d6",
      "cell_type": "code",
      "source": "import pandas as pd\nimport numpy as np\nimport matplotlib.pyplot as plt ",
      "metadata": {
        "trusted": true
      },
      "outputs": [],
      "execution_count": 3
    },
    {
      "id": "22c89c20-57b5-4a09-9f62-a8fac8ea6702",
      "cell_type": "code",
      "source": "df=pd.read_csv(\"Iris.csv\")\ndf",
      "metadata": {
        "trusted": true
      },
      "outputs": [
        {
          "execution_count": 5,
          "output_type": "execute_result",
          "data": {
            "text/plain": "      Id  SepalLengthCm  SepalWidthCm  PetalLengthCm  PetalWidthCm  \\\n0      1            5.1           3.5            1.4           0.2   \n1      2            4.9           3.0            1.4           0.2   \n2      3            4.7           3.2            1.3           0.2   \n3      4            4.6           3.1            1.5           0.2   \n4      5            5.0           3.6            1.4           0.2   \n..   ...            ...           ...            ...           ...   \n145  146            6.7           3.0            5.2           2.3   \n146  147            6.3           2.5            5.0           1.9   \n147  148            6.5           3.0            5.2           2.0   \n148  149            6.2           3.4            5.4           2.3   \n149  150            5.9           3.0            5.1           1.8   \n\n            Species  \n0       Iris-setosa  \n1       Iris-setosa  \n2       Iris-setosa  \n3       Iris-setosa  \n4       Iris-setosa  \n..              ...  \n145  Iris-virginica  \n146  Iris-virginica  \n147  Iris-virginica  \n148  Iris-virginica  \n149  Iris-virginica  \n\n[150 rows x 6 columns]",
            "text/html": "<div>\n<style scoped>\n    .dataframe tbody tr th:only-of-type {\n        vertical-align: middle;\n    }\n\n    .dataframe tbody tr th {\n        vertical-align: top;\n    }\n\n    .dataframe thead th {\n        text-align: right;\n    }\n</style>\n<table border=\"1\" class=\"dataframe\">\n  <thead>\n    <tr style=\"text-align: right;\">\n      <th></th>\n      <th>Id</th>\n      <th>SepalLengthCm</th>\n      <th>SepalWidthCm</th>\n      <th>PetalLengthCm</th>\n      <th>PetalWidthCm</th>\n      <th>Species</th>\n    </tr>\n  </thead>\n  <tbody>\n    <tr>\n      <th>0</th>\n      <td>1</td>\n      <td>5.1</td>\n      <td>3.5</td>\n      <td>1.4</td>\n      <td>0.2</td>\n      <td>Iris-setosa</td>\n    </tr>\n    <tr>\n      <th>1</th>\n      <td>2</td>\n      <td>4.9</td>\n      <td>3.0</td>\n      <td>1.4</td>\n      <td>0.2</td>\n      <td>Iris-setosa</td>\n    </tr>\n    <tr>\n      <th>2</th>\n      <td>3</td>\n      <td>4.7</td>\n      <td>3.2</td>\n      <td>1.3</td>\n      <td>0.2</td>\n      <td>Iris-setosa</td>\n    </tr>\n    <tr>\n      <th>3</th>\n      <td>4</td>\n      <td>4.6</td>\n      <td>3.1</td>\n      <td>1.5</td>\n      <td>0.2</td>\n      <td>Iris-setosa</td>\n    </tr>\n    <tr>\n      <th>4</th>\n      <td>5</td>\n      <td>5.0</td>\n      <td>3.6</td>\n      <td>1.4</td>\n      <td>0.2</td>\n      <td>Iris-setosa</td>\n    </tr>\n    <tr>\n      <th>...</th>\n      <td>...</td>\n      <td>...</td>\n      <td>...</td>\n      <td>...</td>\n      <td>...</td>\n      <td>...</td>\n    </tr>\n    <tr>\n      <th>145</th>\n      <td>146</td>\n      <td>6.7</td>\n      <td>3.0</td>\n      <td>5.2</td>\n      <td>2.3</td>\n      <td>Iris-virginica</td>\n    </tr>\n    <tr>\n      <th>146</th>\n      <td>147</td>\n      <td>6.3</td>\n      <td>2.5</td>\n      <td>5.0</td>\n      <td>1.9</td>\n      <td>Iris-virginica</td>\n    </tr>\n    <tr>\n      <th>147</th>\n      <td>148</td>\n      <td>6.5</td>\n      <td>3.0</td>\n      <td>5.2</td>\n      <td>2.0</td>\n      <td>Iris-virginica</td>\n    </tr>\n    <tr>\n      <th>148</th>\n      <td>149</td>\n      <td>6.2</td>\n      <td>3.4</td>\n      <td>5.4</td>\n      <td>2.3</td>\n      <td>Iris-virginica</td>\n    </tr>\n    <tr>\n      <th>149</th>\n      <td>150</td>\n      <td>5.9</td>\n      <td>3.0</td>\n      <td>5.1</td>\n      <td>1.8</td>\n      <td>Iris-virginica</td>\n    </tr>\n  </tbody>\n</table>\n<p>150 rows × 6 columns</p>\n</div>"
          },
          "metadata": {}
        }
      ],
      "execution_count": 5
    },
    {
      "id": "3615e3cc-c9da-49f7-828c-06c0241ce2f9",
      "cell_type": "code",
      "source": "df.dtypes",
      "metadata": {
        "trusted": true
      },
      "outputs": [
        {
          "execution_count": 7,
          "output_type": "execute_result",
          "data": {
            "text/plain": "Id                 int64\nSepalLengthCm    float64\nSepalWidthCm     float64\nPetalLengthCm    float64\nPetalWidthCm     float64\nSpecies           object\ndtype: object"
          },
          "metadata": {}
        }
      ],
      "execution_count": 7
    },
    {
      "id": "1d4a86b7-8fa6-492d-aec3-33cdf953d3b6",
      "cell_type": "code",
      "source": "df.isnull().sum()",
      "metadata": {
        "trusted": true
      },
      "outputs": [
        {
          "execution_count": 8,
          "output_type": "execute_result",
          "data": {
            "text/plain": "Id               0\nSepalLengthCm    0\nSepalWidthCm     0\nPetalLengthCm    0\nPetalWidthCm     0\nSpecies          0\ndtype: int64"
          },
          "metadata": {}
        }
      ],
      "execution_count": 8
    },
    {
      "id": "70628da4-6501-45bf-b604-04f1e2c54e8b",
      "cell_type": "code",
      "source": "df.describe()",
      "metadata": {
        "trusted": true
      },
      "outputs": [
        {
          "execution_count": 9,
          "output_type": "execute_result",
          "data": {
            "text/plain": "               Id  SepalLengthCm  SepalWidthCm  PetalLengthCm  PetalWidthCm\ncount  150.000000     150.000000    150.000000     150.000000    150.000000\nmean    75.500000       5.843333      3.054000       3.758667      1.198667\nstd     43.445368       0.828066      0.433594       1.764420      0.763161\nmin      1.000000       4.300000      2.000000       1.000000      0.100000\n25%     38.250000       5.100000      2.800000       1.600000      0.300000\n50%     75.500000       5.800000      3.000000       4.350000      1.300000\n75%    112.750000       6.400000      3.300000       5.100000      1.800000\nmax    150.000000       7.900000      4.400000       6.900000      2.500000",
            "text/html": "<div>\n<style scoped>\n    .dataframe tbody tr th:only-of-type {\n        vertical-align: middle;\n    }\n\n    .dataframe tbody tr th {\n        vertical-align: top;\n    }\n\n    .dataframe thead th {\n        text-align: right;\n    }\n</style>\n<table border=\"1\" class=\"dataframe\">\n  <thead>\n    <tr style=\"text-align: right;\">\n      <th></th>\n      <th>Id</th>\n      <th>SepalLengthCm</th>\n      <th>SepalWidthCm</th>\n      <th>PetalLengthCm</th>\n      <th>PetalWidthCm</th>\n    </tr>\n  </thead>\n  <tbody>\n    <tr>\n      <th>count</th>\n      <td>150.000000</td>\n      <td>150.000000</td>\n      <td>150.000000</td>\n      <td>150.000000</td>\n      <td>150.000000</td>\n    </tr>\n    <tr>\n      <th>mean</th>\n      <td>75.500000</td>\n      <td>5.843333</td>\n      <td>3.054000</td>\n      <td>3.758667</td>\n      <td>1.198667</td>\n    </tr>\n    <tr>\n      <th>std</th>\n      <td>43.445368</td>\n      <td>0.828066</td>\n      <td>0.433594</td>\n      <td>1.764420</td>\n      <td>0.763161</td>\n    </tr>\n    <tr>\n      <th>min</th>\n      <td>1.000000</td>\n      <td>4.300000</td>\n      <td>2.000000</td>\n      <td>1.000000</td>\n      <td>0.100000</td>\n    </tr>\n    <tr>\n      <th>25%</th>\n      <td>38.250000</td>\n      <td>5.100000</td>\n      <td>2.800000</td>\n      <td>1.600000</td>\n      <td>0.300000</td>\n    </tr>\n    <tr>\n      <th>50%</th>\n      <td>75.500000</td>\n      <td>5.800000</td>\n      <td>3.000000</td>\n      <td>4.350000</td>\n      <td>1.300000</td>\n    </tr>\n    <tr>\n      <th>75%</th>\n      <td>112.750000</td>\n      <td>6.400000</td>\n      <td>3.300000</td>\n      <td>5.100000</td>\n      <td>1.800000</td>\n    </tr>\n    <tr>\n      <th>max</th>\n      <td>150.000000</td>\n      <td>7.900000</td>\n      <td>4.400000</td>\n      <td>6.900000</td>\n      <td>2.500000</td>\n    </tr>\n  </tbody>\n</table>\n</div>"
          },
          "metadata": {}
        }
      ],
      "execution_count": 9
    },
    {
      "id": "d3e90b5a-5baa-4bba-8a12-3a36475d9834",
      "cell_type": "code",
      "source": "print(\"unique species:\", df['Species'].unique())",
      "metadata": {
        "trusted": true
      },
      "outputs": [
        {
          "name": "stdout",
          "output_type": "stream",
          "text": "unique species: ['Iris-setosa' 'Iris-versicolor' 'Iris-virginica']\n"
        }
      ],
      "execution_count": 13
    },
    {
      "id": "24506cfb-f665-4e59-a2eb-26ea511eff1b",
      "cell_type": "code",
      "source": "for Species in df['Species'].unique():\n    print(f\"\\nDescrriptive stats of {Species}:\")\n    subset=df[df['Species']==Species]\n    description=subset.describe(percentiles=[.25,.5,.75])\n    print(description)\n    ",
      "metadata": {
        "trusted": true
      },
      "outputs": [
        {
          "name": "stdout",
          "output_type": "stream",
          "text": "\nDescrriptive stats of Iris-setosa:\n             Id  SepalLengthCm  SepalWidthCm  PetalLengthCm  PetalWidthCm\ncount  50.00000       50.00000     50.000000      50.000000      50.00000\nmean   25.50000        5.00600      3.418000       1.464000       0.24400\nstd    14.57738        0.35249      0.381024       0.173511       0.10721\nmin     1.00000        4.30000      2.300000       1.000000       0.10000\n25%    13.25000        4.80000      3.125000       1.400000       0.20000\n50%    25.50000        5.00000      3.400000       1.500000       0.20000\n75%    37.75000        5.20000      3.675000       1.575000       0.30000\nmax    50.00000        5.80000      4.400000       1.900000       0.60000\n\nDescrriptive stats of Iris-versicolor:\n              Id  SepalLengthCm  SepalWidthCm  PetalLengthCm  PetalWidthCm\ncount   50.00000      50.000000     50.000000      50.000000     50.000000\nmean    75.50000       5.936000      2.770000       4.260000      1.326000\nstd     14.57738       0.516171      0.313798       0.469911      0.197753\nmin     51.00000       4.900000      2.000000       3.000000      1.000000\n25%     63.25000       5.600000      2.525000       4.000000      1.200000\n50%     75.50000       5.900000      2.800000       4.350000      1.300000\n75%     87.75000       6.300000      3.000000       4.600000      1.500000\nmax    100.00000       7.000000      3.400000       5.100000      1.800000\n\nDescrriptive stats of Iris-virginica:\n              Id  SepalLengthCm  SepalWidthCm  PetalLengthCm  PetalWidthCm\ncount   50.00000       50.00000     50.000000      50.000000      50.00000\nmean   125.50000        6.58800      2.974000       5.552000       2.02600\nstd     14.57738        0.63588      0.322497       0.551895       0.27465\nmin    101.00000        4.90000      2.200000       4.500000       1.40000\n25%    113.25000        6.22500      2.800000       5.100000       1.80000\n50%    125.50000        6.50000      3.000000       5.550000       2.00000\n75%    137.75000        6.90000      3.175000       5.875000       2.30000\nmax    150.00000        7.90000      3.800000       6.900000       2.50000\n"
        }
      ],
      "execution_count": 18
    },
    {
      "id": "106eb067-f515-4d68-a035-52a7313c4390",
      "cell_type": "code",
      "source": "em=pd.read_csv(\"Extended_Employee_Performance_and_Productivity_Data.csv\")\nem",
      "metadata": {
        "trusted": true
      },
      "outputs": [
        {
          "execution_count": 19,
          "output_type": "execute_result",
          "data": {
            "text/plain": "       Employee_ID        Department  Gender  Age   Job_Title  \\\n0                1                IT    Male   55  Specialist   \n1                2           Finance    Male   29   Developer   \n2                3           Finance    Male   55  Specialist   \n3                4  Customer Support  Female   48     Analyst   \n4                5       Engineering  Female   36     Analyst   \n...            ...               ...     ...  ...         ...   \n99995        99996           Finance    Male   27  Technician   \n99996        99997                IT  Female   36  Consultant   \n99997        99998        Operations    Male   53     Analyst   \n99998        99999                HR  Female   22  Consultant   \n99999       100000           Finance  Female   43     Analyst   \n\n                        Hire_Date  Years_At_Company Education_Level  \\\n0      2022-01-19 08:03:05.556036                 2     High School   \n1      2024-04-18 08:03:05.556036                 0     High School   \n2      2015-10-26 08:03:05.556036                 8     High School   \n3      2016-10-22 08:03:05.556036                 7        Bachelor   \n4      2021-07-23 08:03:05.556036                 3        Bachelor   \n...                           ...               ...             ...   \n99995  2022-12-07 08:03:05.556036                 1        Bachelor   \n99996  2018-07-24 08:03:05.556036                 6          Master   \n99997  2015-11-24 08:03:05.556036                 8     High School   \n99998  2015-08-03 08:03:05.556036                 9     High School   \n99999  2024-03-04 08:03:05.556036                 0             PhD   \n\n       Performance_Score  Monthly_Salary  Work_Hours_Per_Week  \\\n0                      5          6750.0                   33   \n1                      5          7500.0                   34   \n2                      3          5850.0                   37   \n3                      2          4800.0                   52   \n4                      2          4800.0                   38   \n...                  ...             ...                  ...   \n99995                  4          4900.0                   55   \n99996                  5          8250.0                   39   \n99997                  2          4800.0                   31   \n99998                  5          8250.0                   35   \n99999                  1          4400.0                   51   \n\n       Projects_Handled  Overtime_Hours  Sick_Days  Remote_Work_Frequency  \\\n0                    32              22          2                      0   \n1                    34              13         14                    100   \n2                    27               6          3                     50   \n3                    10              28         12                    100   \n4                    11              29         13                    100   \n...                 ...             ...        ...                    ...   \n99995                46               5          3                     75   \n99996                35               7          0                      0   \n99997                13               6          5                      0   \n99998                43              10          1                     75   \n99999                43              27         11                     75   \n\n       Team_Size  Training_Hours  Promotions  Employee_Satisfaction_Score  \\\n0             14              66           0                         2.63   \n1             12              61           2                         1.72   \n2             10               1           0                         3.17   \n3             10               0           1                         1.86   \n4             15               9           1                         1.25   \n...          ...             ...         ...                          ...   \n99995         16              48           2                         1.28   \n99996         10              77           1                         3.48   \n99997          5              87           1                         2.60   \n99998          2              31           1                         3.10   \n99999         13              45           1                         2.64   \n\n       Resigned  \n0         False  \n1         False  \n2         False  \n3         False  \n4         False  \n...         ...  \n99995     False  \n99996      True  \n99997     False  \n99998     False  \n99999     False  \n\n[100000 rows x 20 columns]",
            "text/html": "<div>\n<style scoped>\n    .dataframe tbody tr th:only-of-type {\n        vertical-align: middle;\n    }\n\n    .dataframe tbody tr th {\n        vertical-align: top;\n    }\n\n    .dataframe thead th {\n        text-align: right;\n    }\n</style>\n<table border=\"1\" class=\"dataframe\">\n  <thead>\n    <tr style=\"text-align: right;\">\n      <th></th>\n      <th>Employee_ID</th>\n      <th>Department</th>\n      <th>Gender</th>\n      <th>Age</th>\n      <th>Job_Title</th>\n      <th>Hire_Date</th>\n      <th>Years_At_Company</th>\n      <th>Education_Level</th>\n      <th>Performance_Score</th>\n      <th>Monthly_Salary</th>\n      <th>Work_Hours_Per_Week</th>\n      <th>Projects_Handled</th>\n      <th>Overtime_Hours</th>\n      <th>Sick_Days</th>\n      <th>Remote_Work_Frequency</th>\n      <th>Team_Size</th>\n      <th>Training_Hours</th>\n      <th>Promotions</th>\n      <th>Employee_Satisfaction_Score</th>\n      <th>Resigned</th>\n    </tr>\n  </thead>\n  <tbody>\n    <tr>\n      <th>0</th>\n      <td>1</td>\n      <td>IT</td>\n      <td>Male</td>\n      <td>55</td>\n      <td>Specialist</td>\n      <td>2022-01-19 08:03:05.556036</td>\n      <td>2</td>\n      <td>High School</td>\n      <td>5</td>\n      <td>6750.0</td>\n      <td>33</td>\n      <td>32</td>\n      <td>22</td>\n      <td>2</td>\n      <td>0</td>\n      <td>14</td>\n      <td>66</td>\n      <td>0</td>\n      <td>2.63</td>\n      <td>False</td>\n    </tr>\n    <tr>\n      <th>1</th>\n      <td>2</td>\n      <td>Finance</td>\n      <td>Male</td>\n      <td>29</td>\n      <td>Developer</td>\n      <td>2024-04-18 08:03:05.556036</td>\n      <td>0</td>\n      <td>High School</td>\n      <td>5</td>\n      <td>7500.0</td>\n      <td>34</td>\n      <td>34</td>\n      <td>13</td>\n      <td>14</td>\n      <td>100</td>\n      <td>12</td>\n      <td>61</td>\n      <td>2</td>\n      <td>1.72</td>\n      <td>False</td>\n    </tr>\n    <tr>\n      <th>2</th>\n      <td>3</td>\n      <td>Finance</td>\n      <td>Male</td>\n      <td>55</td>\n      <td>Specialist</td>\n      <td>2015-10-26 08:03:05.556036</td>\n      <td>8</td>\n      <td>High School</td>\n      <td>3</td>\n      <td>5850.0</td>\n      <td>37</td>\n      <td>27</td>\n      <td>6</td>\n      <td>3</td>\n      <td>50</td>\n      <td>10</td>\n      <td>1</td>\n      <td>0</td>\n      <td>3.17</td>\n      <td>False</td>\n    </tr>\n    <tr>\n      <th>3</th>\n      <td>4</td>\n      <td>Customer Support</td>\n      <td>Female</td>\n      <td>48</td>\n      <td>Analyst</td>\n      <td>2016-10-22 08:03:05.556036</td>\n      <td>7</td>\n      <td>Bachelor</td>\n      <td>2</td>\n      <td>4800.0</td>\n      <td>52</td>\n      <td>10</td>\n      <td>28</td>\n      <td>12</td>\n      <td>100</td>\n      <td>10</td>\n      <td>0</td>\n      <td>1</td>\n      <td>1.86</td>\n      <td>False</td>\n    </tr>\n    <tr>\n      <th>4</th>\n      <td>5</td>\n      <td>Engineering</td>\n      <td>Female</td>\n      <td>36</td>\n      <td>Analyst</td>\n      <td>2021-07-23 08:03:05.556036</td>\n      <td>3</td>\n      <td>Bachelor</td>\n      <td>2</td>\n      <td>4800.0</td>\n      <td>38</td>\n      <td>11</td>\n      <td>29</td>\n      <td>13</td>\n      <td>100</td>\n      <td>15</td>\n      <td>9</td>\n      <td>1</td>\n      <td>1.25</td>\n      <td>False</td>\n    </tr>\n    <tr>\n      <th>...</th>\n      <td>...</td>\n      <td>...</td>\n      <td>...</td>\n      <td>...</td>\n      <td>...</td>\n      <td>...</td>\n      <td>...</td>\n      <td>...</td>\n      <td>...</td>\n      <td>...</td>\n      <td>...</td>\n      <td>...</td>\n      <td>...</td>\n      <td>...</td>\n      <td>...</td>\n      <td>...</td>\n      <td>...</td>\n      <td>...</td>\n      <td>...</td>\n      <td>...</td>\n    </tr>\n    <tr>\n      <th>99995</th>\n      <td>99996</td>\n      <td>Finance</td>\n      <td>Male</td>\n      <td>27</td>\n      <td>Technician</td>\n      <td>2022-12-07 08:03:05.556036</td>\n      <td>1</td>\n      <td>Bachelor</td>\n      <td>4</td>\n      <td>4900.0</td>\n      <td>55</td>\n      <td>46</td>\n      <td>5</td>\n      <td>3</td>\n      <td>75</td>\n      <td>16</td>\n      <td>48</td>\n      <td>2</td>\n      <td>1.28</td>\n      <td>False</td>\n    </tr>\n    <tr>\n      <th>99996</th>\n      <td>99997</td>\n      <td>IT</td>\n      <td>Female</td>\n      <td>36</td>\n      <td>Consultant</td>\n      <td>2018-07-24 08:03:05.556036</td>\n      <td>6</td>\n      <td>Master</td>\n      <td>5</td>\n      <td>8250.0</td>\n      <td>39</td>\n      <td>35</td>\n      <td>7</td>\n      <td>0</td>\n      <td>0</td>\n      <td>10</td>\n      <td>77</td>\n      <td>1</td>\n      <td>3.48</td>\n      <td>True</td>\n    </tr>\n    <tr>\n      <th>99997</th>\n      <td>99998</td>\n      <td>Operations</td>\n      <td>Male</td>\n      <td>53</td>\n      <td>Analyst</td>\n      <td>2015-11-24 08:03:05.556036</td>\n      <td>8</td>\n      <td>High School</td>\n      <td>2</td>\n      <td>4800.0</td>\n      <td>31</td>\n      <td>13</td>\n      <td>6</td>\n      <td>5</td>\n      <td>0</td>\n      <td>5</td>\n      <td>87</td>\n      <td>1</td>\n      <td>2.60</td>\n      <td>False</td>\n    </tr>\n    <tr>\n      <th>99998</th>\n      <td>99999</td>\n      <td>HR</td>\n      <td>Female</td>\n      <td>22</td>\n      <td>Consultant</td>\n      <td>2015-08-03 08:03:05.556036</td>\n      <td>9</td>\n      <td>High School</td>\n      <td>5</td>\n      <td>8250.0</td>\n      <td>35</td>\n      <td>43</td>\n      <td>10</td>\n      <td>1</td>\n      <td>75</td>\n      <td>2</td>\n      <td>31</td>\n      <td>1</td>\n      <td>3.10</td>\n      <td>False</td>\n    </tr>\n    <tr>\n      <th>99999</th>\n      <td>100000</td>\n      <td>Finance</td>\n      <td>Female</td>\n      <td>43</td>\n      <td>Analyst</td>\n      <td>2024-03-04 08:03:05.556036</td>\n      <td>0</td>\n      <td>PhD</td>\n      <td>1</td>\n      <td>4400.0</td>\n      <td>51</td>\n      <td>43</td>\n      <td>27</td>\n      <td>11</td>\n      <td>75</td>\n      <td>13</td>\n      <td>45</td>\n      <td>1</td>\n      <td>2.64</td>\n      <td>False</td>\n    </tr>\n  </tbody>\n</table>\n<p>100000 rows × 20 columns</p>\n</div>"
          },
          "metadata": {}
        }
      ],
      "execution_count": 19
    },
    {
      "id": "7270e274-fb0d-4715-8664-e5c690a939d1",
      "cell_type": "code",
      "source": "em.dtypes",
      "metadata": {
        "trusted": true
      },
      "outputs": [
        {
          "execution_count": 21,
          "output_type": "execute_result",
          "data": {
            "text/plain": "Employee_ID                      int64\nDepartment                      object\nGender                          object\nAge                              int64\nJob_Title                       object\nHire_Date                       object\nYears_At_Company                 int64\nEducation_Level                 object\nPerformance_Score                int64\nMonthly_Salary                 float64\nWork_Hours_Per_Week              int64\nProjects_Handled                 int64\nOvertime_Hours                   int64\nSick_Days                        int64\nRemote_Work_Frequency            int64\nTeam_Size                        int64\nTraining_Hours                   int64\nPromotions                       int64\nEmployee_Satisfaction_Score    float64\nResigned                          bool\ndtype: object"
          },
          "metadata": {}
        }
      ],
      "execution_count": 21
    },
    {
      "id": "a95408ec-cc43-45a1-a463-27ee12a80c24",
      "cell_type": "code",
      "source": "em.isnull().sum()",
      "metadata": {
        "trusted": true
      },
      "outputs": [
        {
          "execution_count": 23,
          "output_type": "execute_result",
          "data": {
            "text/plain": "Employee_ID                    0\nDepartment                     0\nGender                         0\nAge                            0\nJob_Title                      0\nHire_Date                      0\nYears_At_Company               0\nEducation_Level                0\nPerformance_Score              0\nMonthly_Salary                 0\nWork_Hours_Per_Week            0\nProjects_Handled               0\nOvertime_Hours                 0\nSick_Days                      0\nRemote_Work_Frequency          0\nTeam_Size                      0\nTraining_Hours                 0\nPromotions                     0\nEmployee_Satisfaction_Score    0\nResigned                       0\ndtype: int64"
          },
          "metadata": {}
        }
      ],
      "execution_count": 23
    },
    {
      "id": "bf9d69e0-dfda-4929-94da-702ce94a3940",
      "cell_type": "code",
      "source": "salary_summary=em.groupby('Education_Level')['Monthly_Salary'].agg(mean='mean',median='median', min='min',max='max', std='std').reset_index()",
      "metadata": {
        "trusted": true
      },
      "outputs": [],
      "execution_count": 25
    },
    {
      "id": "ee97a6ac-19ae-4b6d-ac3b-ba056fa74623",
      "cell_type": "code",
      "source": "salary_list=em.groupby('Education_Level')['Monthly_Salary'].apply(list).reset_index(name='salary_list')",
      "metadata": {
        "trusted": true
      },
      "outputs": [],
      "execution_count": 26
    },
    {
      "id": "115930b9-fe17-4c49-8ef7-ef7be9707517",
      "cell_type": "code",
      "source": "sum_combined=pd.merge(salary_summary,salary_list,on='Education_Level')",
      "metadata": {
        "trusted": true
      },
      "outputs": [],
      "execution_count": 28
    },
    {
      "id": "b015a713-244c-4df2-86f3-3b9ce8f9f07d",
      "cell_type": "code",
      "source": " sum_combined",
      "metadata": {
        "trusted": true
      },
      "outputs": [
        {
          "execution_count": 30,
          "output_type": "execute_result",
          "data": {
            "text/plain": "  Education_Level         mean  median     min     max          std  \\\n0        Bachelor  6398.421295  6500.0  3850.0  9000.0  1371.285917   \n1     High School  6399.356752  6500.0  3850.0  9000.0  1375.293039   \n2          Master  6417.448336  6500.0  3850.0  9000.0  1372.929197   \n3             PhD  6431.548208  6500.0  3850.0  9000.0  1366.589329   \n\n                                         salary_list  \n0  [4800.0, 4800.0, 5250.0, 7200.0, 6050.0, 7800....  \n1  [6750.0, 7500.0, 5850.0, 7800.0, 4200.0, 6000....  \n2  [4400.0, 9000.0, 6600.0, 7800.0, 5600.0, 9000....  \n3  [8400.0, 4950.0, 4550.0, 4550.0, 5850.0, 7700....  ",
            "text/html": "<div>\n<style scoped>\n    .dataframe tbody tr th:only-of-type {\n        vertical-align: middle;\n    }\n\n    .dataframe tbody tr th {\n        vertical-align: top;\n    }\n\n    .dataframe thead th {\n        text-align: right;\n    }\n</style>\n<table border=\"1\" class=\"dataframe\">\n  <thead>\n    <tr style=\"text-align: right;\">\n      <th></th>\n      <th>Education_Level</th>\n      <th>mean</th>\n      <th>median</th>\n      <th>min</th>\n      <th>max</th>\n      <th>std</th>\n      <th>salary_list</th>\n    </tr>\n  </thead>\n  <tbody>\n    <tr>\n      <th>0</th>\n      <td>Bachelor</td>\n      <td>6398.421295</td>\n      <td>6500.0</td>\n      <td>3850.0</td>\n      <td>9000.0</td>\n      <td>1371.285917</td>\n      <td>[4800.0, 4800.0, 5250.0, 7200.0, 6050.0, 7800....</td>\n    </tr>\n    <tr>\n      <th>1</th>\n      <td>High School</td>\n      <td>6399.356752</td>\n      <td>6500.0</td>\n      <td>3850.0</td>\n      <td>9000.0</td>\n      <td>1375.293039</td>\n      <td>[6750.0, 7500.0, 5850.0, 7800.0, 4200.0, 6000....</td>\n    </tr>\n    <tr>\n      <th>2</th>\n      <td>Master</td>\n      <td>6417.448336</td>\n      <td>6500.0</td>\n      <td>3850.0</td>\n      <td>9000.0</td>\n      <td>1372.929197</td>\n      <td>[4400.0, 9000.0, 6600.0, 7800.0, 5600.0, 9000....</td>\n    </tr>\n    <tr>\n      <th>3</th>\n      <td>PhD</td>\n      <td>6431.548208</td>\n      <td>6500.0</td>\n      <td>3850.0</td>\n      <td>9000.0</td>\n      <td>1366.589329</td>\n      <td>[8400.0, 4950.0, 4550.0, 4550.0, 5850.0, 7700....</td>\n    </tr>\n  </tbody>\n</table>\n</div>"
          },
          "metadata": {}
        }
      ],
      "execution_count": 30
    },
    {
      "id": "6eda061f-47fd-4168-a6cc-024b75034ce4",
      "cell_type": "code",
      "source": "",
      "metadata": {
        "trusted": true
      },
      "outputs": [],
      "execution_count": null
    }
  ]
}